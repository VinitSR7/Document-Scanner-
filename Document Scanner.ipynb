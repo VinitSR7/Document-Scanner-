{
 "cells": [
  {
   "cell_type": "code",
   "execution_count": 27,
   "metadata": {},
   "outputs": [],
   "source": [
    "from imutils.perspective import four_point_transform\n",
    "from skimage.filters import threshold_local\n",
    "import numpy as np\n",
    "import cv2\n",
    "import imutils\n"
   ]
  },
  {
   "cell_type": "code",
   "execution_count": 28,
   "metadata": {},
   "outputs": [],
   "source": [
    "def auto_canny(image, sigma=0.33):\n",
    "    # compute the median of the single channel pixel intensities\n",
    "    v = np.median(image)\n",
    "\n",
    "    # apply automatic Canny edge detection using the computed median\n",
    "    lower = int(max(0, (1.0 - sigma) * v))\n",
    "    upper = int(min(255, (1.0 + sigma) * v))\n",
    "    edged = cv2.Canny(image, lower, upper)\n",
    "\n",
    "    # return the edged image\n",
    "    return edged"
   ]
  },
  {
   "cell_type": "code",
   "execution_count": 67,
   "metadata": {},
   "outputs": [],
   "source": [
    "def document_scanner(image_path):\n",
    "    # 1. Read the image\n",
    "    image = cv2.imread(image_path)\n",
    "\n",
    "    # To make edge detection step more accurate, we resize our scanned image to a height of 500 pixels\n",
    "    # Ratio will allow us to perform the scan on the original image rather than the resized image.\n",
    "    ratio = image.shape[0] / 500.0\n",
    "    orig = image.copy()\n",
    "    image = imutils.resize(image, height = 500)\n",
    "    \n",
    "    # 2. Edge Detection\n",
    "    \n",
    "    # Convert the image to grayscale, blur it, and find edges (canny edged detecter is used)\n",
    "    gray = cv2.cvtColor(image, cv2.COLOR_BGR2GRAY)\n",
    "    \n",
    "    # Smooth the image with a Gaussian filter to reduce noise and unwanted details and textures. \n",
    "    # which will help edge detection process\n",
    "    gray = cv2.GaussianBlur(gray, (5, 5), 0)\n",
    "    #edged = cv2.Canny(gray, 75, 200) \n",
    "    edged = auto_canny(gray)\n",
    "#     plt.imshow(edged)\n",
    "#     plt.show()\n",
    "#     plt.imshow(edged2)\n",
    "#     plt.show()\n",
    "    # 3. Finding Contours\n",
    "    \n",
    "    # find the contours in the edged image, keeping only the\n",
    "    # largest ones, and initialize the screen contour\n",
    "    cnts = cv2.findContours(edged.copy(), cv2.RETR_LIST, cv2.CHAIN_APPROX_SIMPLE)\n",
    "    cnts = imutils.grab_contours(cnts)\n",
    "    cnts = sorted(cnts, key = cv2.contourArea, reverse = True) # Because we want to examine only large contours\n",
    "    #print(len(cnts))\n",
    "    # we’ll assume that the largest contour in the image with exactly four points is our piece of paper to be scanned.\n",
    "    for c in cnts:\n",
    "        peri = cv2.arcLength(c, True)\n",
    "        approx = cv2.approxPolyDP(c, 0.02 * peri, True)\n",
    "        if len(approx) == 4:\n",
    "            screenCnt = approx\n",
    "            break\n",
    "\n",
    "    # Find contours of paper\n",
    "    cv2.drawContours(image, [screenCnt], -1, (0, 255, 0), 2)\n",
    "\n",
    "    \n",
    "    # 4. Apply the four point perspective transform to obtain a bird eye view of the document\n",
    "    warped = four_point_transform(orig, screenCnt.reshape(4, 2) * ratio)\n",
    "\n",
    "    # Convert the warped image to grayscale, then threshold it\n",
    "    # To give it that 'black and white' paper effect\n",
    "    warped = cv2.cvtColor(warped, cv2.COLOR_BGR2GRAY)\n",
    "    T = threshold_local(warped, 11, offset = 10, method = \"gaussian\")\n",
    "    warped = (warped > T).astype(\"uint8\") * 255\n",
    "    return orig, warped"
   ]
  },
  {
   "cell_type": "code",
   "execution_count": 69,
   "metadata": {},
   "outputs": [],
   "source": [
    "a, b = document_scanner(\"images/page.jpg\")"
   ]
  },
  {
   "cell_type": "code",
   "execution_count": 70,
   "metadata": {},
   "outputs": [],
   "source": [
    "# Display the results.\n",
    "cv2.namedWindow(\"orig\", cv2.WINDOW_NORMAL)  \n",
    "cv2.namedWindow(\"scanned\", cv2.WINDOW_NORMAL)   \n",
    "cv2.imshow(\"orig\", a)\n",
    "cv2.imshow(\"scanned\", b)\n",
    "cv2.waitKey(0)\n",
    "cv2.destroyAllWindows()"
   ]
  },
  {
   "cell_type": "code",
   "execution_count": null,
   "metadata": {},
   "outputs": [],
   "source": []
  }
 ],
 "metadata": {
  "kernelspec": {
   "display_name": "Python 3",
   "language": "python",
   "name": "python3"
  },
  "language_info": {
   "codemirror_mode": {
    "name": "ipython",
    "version": 3
   },
   "file_extension": ".py",
   "mimetype": "text/x-python",
   "name": "python",
   "nbconvert_exporter": "python",
   "pygments_lexer": "ipython3",
   "version": "3.7.6"
  }
 },
 "nbformat": 4,
 "nbformat_minor": 2
}
